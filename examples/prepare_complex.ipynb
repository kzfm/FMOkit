{
 "cells": [
  {
   "cell_type": "markdown",
   "id": "efb07c01-9e3c-4252-9931-f72b3aa45910",
   "metadata": {},
   "source": [
    "# Preprocess the complex crystal structure from the PDB and convert it for FMO calculations.\n",
    "I referred to [T019 · Molecular Dynamics Simulation](https://projects.volkamerlab.org/teachopencadd/talktorials/T019_md_simulation.html).\n",
    "This [Japanese article](https://magattaca.hatenablog.com/entry/2022/05/02/005819) is also a useful reference."
   ]
  },
  {
   "cell_type": "code",
   "execution_count": 1,
   "id": "d22b0706-cfca-4baf-a539-3f787ea4b4c9",
   "metadata": {},
   "outputs": [],
   "source": [
    "import copy\n",
    "import numpy as np\n",
    "from rdkit import Chem\n",
    "from rdkit.Chem import Draw\n",
    "from rdkit.Chem import AllChem\n",
    "import pdbfixer\n",
    "import mdtraj as md\n",
    "import openmm as mm\n",
    "import openmm.app as app\n",
    "from openmm import unit\n",
    "from openff.toolkit.topology import Molecule, Topology\n",
    "from openmmforcefields.generators import GAFFTemplateGenerator"
   ]
  },
  {
   "cell_type": "code",
   "execution_count": 2,
   "id": "d4572bb1-5b40-482e-b5a4-690c13835aef",
   "metadata": {},
   "outputs": [],
   "source": [
    "pdbfile = \"6fgl.pdb\"\n",
    "ligand_name = \"UO1\"\n",
    "smiles = \"CC(=O)n1cc(N(C(C)=O)c2cc(O)ccc2C)c3ccccc13\""
   ]
  },
  {
   "cell_type": "code",
   "execution_count": 3,
   "id": "7b37f61e-416b-4500-87d6-5b4606f9e0c2",
   "metadata": {},
   "outputs": [],
   "source": [
    "def prepare_protein(\n",
    "    pdb_file, ignore_missing_residues=True, ignore_terminal_missing_residues=True, ph=7.0\n",
    "):\n",
    "    fixer = pdbfixer.PDBFixer(str(pdb_file))\n",
    "    fixer.removeHeterogens()  # co-crystallized ligands are unknown to PDBFixer\n",
    "    fixer.findMissingResidues()  # identify missing residues, needed for identification of missing atoms\n",
    "\n",
    "    # if missing terminal residues shall be ignored, remove them from the dictionary\n",
    "    if ignore_terminal_missing_residues:\n",
    "        chains = list(fixer.topology.chains())\n",
    "        keys = fixer.missingResidues.keys()\n",
    "        for key in list(keys):\n",
    "            chain = chains[key[0]]\n",
    "            if key[1] == 0 or key[1] == len(list(chain.residues())):\n",
    "                del fixer.missingResidues[key]\n",
    "    if ignore_missing_residues:\n",
    "        fixer.missingResidues = {}\n",
    "\n",
    "    fixer.findNonstandardResidues()  # find non-standard residue\n",
    "    fixer.replaceNonstandardResidues()  # replace non-standard residues with standard one\n",
    "    fixer.findMissingAtoms()  # find missing heavy atoms\n",
    "    fixer.addMissingAtoms()  # add missing atoms and residues\n",
    "    fixer.addMissingHydrogens(ph)  # add missing hydrogens\n",
    "    return fixer"
   ]
  },
  {
   "cell_type": "code",
   "execution_count": 4,
   "id": "22d77904-08c9-4dd3-84f2-0a5eba766c16",
   "metadata": {},
   "outputs": [],
   "source": [
    "prepared_protein = prepare_protein(pdbfile, ignore_missing_residues=False)"
   ]
  },
  {
   "cell_type": "code",
   "execution_count": 5,
   "id": "f0ca1394-83ad-4e87-a792-12cd7f274d91",
   "metadata": {},
   "outputs": [],
   "source": [
    "def prepare_ligand(pdb_file, resname, smiles, depict=True):\n",
    "    # split molecule\n",
    "    rdkit_mol = Chem.MolFromPDBFile(str(pdb_file))\n",
    "    rdkit_mol_split = Chem.rdmolops.SplitMolByPDBResidues(rdkit_mol)\n",
    "\n",
    "    # extract the ligand and remove any already present hydrogens\n",
    "    ligand = rdkit_mol_split[resname]\n",
    "    ligand = Chem.RemoveHs(ligand)\n",
    "\n",
    "    # assign bond orders from template\n",
    "    reference_mol = Chem.MolFromSmiles(smiles)\n",
    "    prepared_ligand = AllChem.AssignBondOrdersFromTemplate(reference_mol, ligand)\n",
    "    prepared_ligand.AddConformer(ligand.GetConformer(0))\n",
    "\n",
    "    # protonate ligand\n",
    "    prepared_ligand = Chem.rdmolops.AddHs(prepared_ligand, addCoords=True)\n",
    "    prepared_ligand2 = Chem.MolFromMolBlock(Chem.MolToMolBlock(prepared_ligand))\n",
    "\n",
    "    # 2D depiction\n",
    "    if depict:\n",
    "        ligand_2d = copy.deepcopy(ligand)\n",
    "        prepared_ligand_2d = copy.deepcopy(prepared_ligand2)\n",
    "        AllChem.Compute2DCoords(ligand_2d)\n",
    "        AllChem.Compute2DCoords(prepared_ligand_2d)\n",
    "        display(\n",
    "            Draw.MolsToGridImage(\n",
    "                [ligand_2d, prepared_ligand_2d], molsPerRow=2, legends=[\"original\", \"prepared\"]\n",
    "            )\n",
    "        )\n",
    "\n",
    "    # return ligand\n",
    "    return prepared_ligand2"
   ]
  },
  {
   "cell_type": "code",
   "execution_count": 6,
   "id": "b8552830-5dc3-49ae-a6b6-70127ce228f3",
   "metadata": {},
   "outputs": [
    {
     "data": {
      "image/png": "[encoded data removed]",
      "text/plain": [
       "<IPython.core.display.Image object>"
      ]
     },
     "metadata": {},
     "output_type": "display_data"
    }
   ],
   "source": [
    "rdkit_ligand = prepare_ligand(pdbfile, ligand_name, smiles)"
   ]
  },
  {
   "cell_type": "code",
   "execution_count": 8,
   "id": "eefa32a9-192b-4de5-a5e5-06aae2e3cb7e",
   "metadata": {},
   "outputs": [],
   "source": [
    "def rdkit_to_openmm(rdkit_mol, name=\"LIG\"):\n",
    "    # convert RDKit to OpenFF\n",
    "    #off_mol = Molecule.from_rdkit(rdkit_mol, allow_undefined_stereo=True, hydrogens_are_explicit=True)\n",
    "    off_mol = Molecule.from_rdkit(rdkit_mol)\n",
    "    \n",
    "\n",
    "    # add name for molecule\n",
    "    off_mol.name = name\n",
    "\n",
    "    # add names for atoms\n",
    "    element_counter_dict = {}\n",
    "    for off_atom, rdkit_atom in zip(off_mol.atoms, rdkit_mol.GetAtoms()):\n",
    "        element = rdkit_atom.GetSymbol()\n",
    "        if element in element_counter_dict.keys():\n",
    "            element_counter_dict[element] += 1\n",
    "        else:\n",
    "            element_counter_dict[element] = 1\n",
    "        off_atom.name = element + str(element_counter_dict[element])\n",
    "        #print(name, off_atom.name)\n",
    "\n",
    "    # convert from OpenFF to OpenMM\n",
    "    off_mol_topology = off_mol.to_topology()\n",
    "    mol_topology = off_mol_topology.to_openmm()\n",
    "    mol_positions = off_mol.conformers[0]\n",
    "\n",
    "    # convert units from Ångström to nanometers\n",
    "    # since OpenMM works in nm\n",
    "    mol_positions = mol_positions.to(\"nanometers\")\n",
    "    # combine topology and positions in modeller object\n",
    "    omm_mol = app.Modeller(mol_topology, mol_positions)\n",
    "    \n",
    "    return omm_mol, off_mol"
   ]
  },
  {
   "cell_type": "code",
   "execution_count": 9,
   "id": "32fa05af-60fb-4a69-8a18-04a90576acc4",
   "metadata": {},
   "outputs": [],
   "source": [
    "omm_ligand, off_ligand = rdkit_to_openmm(rdkit_ligand, ligand_name)"
   ]
  },
  {
   "cell_type": "code",
   "execution_count": 10,
   "id": "77be03f8-e6e4-4a29-8d04-9e3ae9d3fc9a",
   "metadata": {},
   "outputs": [],
   "source": [
    "def merge_protein_and_ligand(protein, ligand):\n",
    "    # combine topologies\n",
    "    md_protein_topology = md.Topology.from_openmm(protein.topology)  # using mdtraj for protein top\n",
    "    md_ligand_topology = md.Topology.from_openmm(ligand.topology)  # using mdtraj for ligand top\n",
    "    md_complex_topology = md_protein_topology.join(md_ligand_topology)  # add them together\n",
    "    complex_topology = md_complex_topology.to_openmm()\n",
    "\n",
    "    # combine positions\n",
    "    total_atoms = len(protein.positions) + len(ligand.positions)\n",
    "\n",
    "    # create an array for storing all atom positions as tupels containing a value and a unit\n",
    "    # called OpenMM Quantities\n",
    "    complex_positions = unit.Quantity(np.zeros([total_atoms, 3]), unit=unit.nanometers)\n",
    "    complex_positions[: len(protein.positions)] = protein.positions  # add protein positions\n",
    "    complex_positions[len(protein.positions) :] = ligand.positions  # add ligand positions\n",
    "\n",
    "    return complex_topology, complex_positions"
   ]
  },
  {
   "cell_type": "code",
   "execution_count": 11,
   "id": "ba04cfb1-e061-419c-8809-8dbf86bf11a6",
   "metadata": {},
   "outputs": [
    {
     "name": "stderr",
     "output_type": "stream",
     "text": [
      "/Users/kzfm/miniconda3/envs/FMOkit/lib/python3.13/site-packages/openmm/unit/quantity.py:753: UnitStrippedWarning: The unit of the quantity is stripped when downcasting to ndarray.\n",
      "  self._value[key] = value / self.unit\n"
     ]
    }
   ],
   "source": [
    "complex_topology, complex_positions = merge_protein_and_ligand(prepared_protein, omm_ligand)"
   ]
  },
  {
   "cell_type": "code",
   "execution_count": 12,
   "id": "97743839-075b-4ae1-b122-71a72921de2b",
   "metadata": {},
   "outputs": [
    {
     "name": "stdout",
     "output_type": "stream",
     "text": [
      "Complex topology has 2030 atoms.\n"
     ]
    }
   ],
   "source": [
    "print(\"Complex topology has\", complex_topology.getNumAtoms(), \"atoms.\")"
   ]
  },
  {
   "cell_type": "code",
   "execution_count": 15,
   "id": "2c5bde7f-1cf6-4520-ac41-c7570882349e",
   "metadata": {},
   "outputs": [],
   "source": [
    "def generate_forcefield(rdkit_mol=None, protein_ff=\"amber14-all.xml\", solvent_ff=\"amber14/tip3pfb.xml\"):\n",
    "    forcefield = app.ForceField(protein_ff, solvent_ff)\n",
    "    if rdkit_mol is not None:\n",
    "        #gaff = GAFFTemplateGenerator(off_mol)\n",
    "        if rdkit_mol is not None:\n",
    "            gaff = GAFFTemplateGenerator(\n",
    "                molecules=Molecule.from_rdkit(rdkit_mol, allow_undefined_stereo=True)\n",
    "            )\n",
    "        forcefield.registerTemplateGenerator(gaff.generator)\n",
    "    return forcefield"
   ]
  },
  {
   "cell_type": "code",
   "execution_count": 16,
   "id": "9b036578-00be-4ac5-9b0b-d852744f2e33",
   "metadata": {},
   "outputs": [],
   "source": [
    "forcefield = generate_forcefield(rdkit_ligand)"
   ]
  },
  {
   "cell_type": "code",
   "execution_count": 17,
   "id": "0a295976-c186-4c7a-9c6f-5981689e2996",
   "metadata": {},
   "outputs": [],
   "source": [
    "modeller = app.Modeller(complex_topology, complex_positions)\n",
    "#modeller.addSolvent(forcefield, padding=1.0 * unit.nanometers, ionicStrength=0.15 * unit.molar)"
   ]
  },
  {
   "cell_type": "code",
   "execution_count": 18,
   "id": "d2dcc438-017c-4f44-8623-2a613dd4a8cb",
   "metadata": {},
   "outputs": [],
   "source": [
    "system = forcefield.createSystem(modeller.topology, nonbondedMethod=app.NoCutoff, constraints=app.HBonds)"
   ]
  },
  {
   "cell_type": "code",
   "execution_count": 19,
   "id": "96041e5d-e9b5-4647-ad26-fad7caaa3359",
   "metadata": {},
   "outputs": [],
   "source": [
    "#top = modeller.getTopology()\n",
    "#pos = modeller.getPositions()\n",
    "#app.PDBxFile.writeFile(top, pos, open('gaff_complex_processed.cif', 'w'))"
   ]
  },
  {
   "cell_type": "code",
   "execution_count": 20,
   "id": "55249e25-b569-4332-b9a2-c43abd1877f9",
   "metadata": {},
   "outputs": [],
   "source": [
    "def write_mmcif(complex_topology, complex_positions, system, ofile):\n",
    "    modeller = app.Modeller(complex_topology, complex_positions)\n",
    "    \n",
    "    partial_charges = []\n",
    "    for force in system.getForces():\n",
    "        if isinstance(force, mm.NonbondedForce):\n",
    "            for atom_index in range(force.getNumParticles()):\n",
    "                charge, sigma, epsilon = force.getParticleParameters(atom_index)\n",
    "                partial_charges.append(str(charge)[:-2])\n",
    "    #print(len(partial_charges),partial_charges)\n",
    "    with open(\"temp.cif\", \"w\") as tf:\n",
    "        app.PDBxFile.writeFile(modeller.topology, modeller.positions, tf)\n",
    "    \n",
    "    atom_site_loop_flag = False\n",
    "    with open(ofile, \"w\") as wf:\n",
    "        with open(\"temp.cif\", \"r\") as f:\n",
    "            for l in f:\n",
    "                if (l.startswith(\"ATOM\") or l.startswith(\"HETATM\")) and atom_site_loop_flag == False:\n",
    "                    wf.write(\"_atom_site.partial_charge\\n\")\n",
    "                    i = 0\n",
    "                    wf.write(l.rstrip('\\n') + f\"  {float(partial_charges[i]):7.4f}\\n\")\n",
    "                    atom_site_loop_flag = True\n",
    "                elif (l.startswith(\"ATOM\") or l.startswith(\"HETATM\")) and atom_site_loop_flag == True:\n",
    "                    i += 1\n",
    "                    wf.write(l.rstrip('\\n') + f\"  {float(partial_charges[i]):7.4f}\\n\")                        \n",
    "                else:\n",
    "                    wf.write(l)"
   ]
  },
  {
   "cell_type": "code",
   "execution_count": 21,
   "id": "b176ee35-c612-4046-89fc-8db78f72951d",
   "metadata": {},
   "outputs": [],
   "source": [
    "write_mmcif(complex_topology, complex_positions, system, \"6fgl_processed.cif\")"
   ]
  }
 ],
 "metadata": {
  "kernelspec": {
   "display_name": "Python 3 (ipykernel)",
   "language": "python",
   "name": "python3"
  },
  "language_info": {
   "codemirror_mode": {
    "name": "ipython",
    "version": 3
   },
   "file_extension": ".py",
   "mimetype": "text/x-python",
   "name": "python",
   "nbconvert_exporter": "python",
   "pygments_lexer": "ipython3",
   "version": "3.13.2"
  }
 },
 "nbformat": 4,
 "nbformat_minor": 5
}
